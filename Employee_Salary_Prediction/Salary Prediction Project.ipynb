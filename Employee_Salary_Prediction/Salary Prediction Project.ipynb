{
  "nbformat": 4,
  "nbformat_minor": 0,
  "metadata": {
    "colab": {
      "provenance": []
    },
    "kernelspec": {
      "name": "python3",
      "display_name": "Python 3"
    },
    "language_info": {
      "name": "python"
    }
  },
  "cells": [
    {
      "cell_type": "code",
      "execution_count": 1,
      "metadata": {
        "id": "4A8Kh6UwYsL4"
      },
      "outputs": [],
      "source": [
        "import numpy as np\n",
        "import matplotlib.pyplot as plt\n",
        "import pandas as pd"
      ]
    },
    {
      "cell_type": "markdown",
      "source": [
        "#Load the given dataset"
      ],
      "metadata": {
        "id": "qIOoAkyfttYE"
      }
    },
    {
      "cell_type": "code",
      "source": [
        "dataset = pd.read_csv('/content/Python_Linear_Regression_Project.csv')\n",
        "experience_mapping = {\n",
        "    'zero': 0,\n",
        "    'one': 1,\n",
        "    'two': 2,\n",
        "    'three': 3,\n",
        "    'four': 4,\n",
        "    'five': 5,\n",
        "    'six': 6,\n",
        "    'seven': 7,\n",
        "    'eight': 8,\n",
        "    'nine': 9,\n",
        "    'ten': 10,\n",
        "    'eleven': 11,\n",
        "\n",
        "}\n",
        "dataset['experience'] = dataset['experience'].map(experience_mapping)"
      ],
      "metadata": {
        "id": "pnslFkN_aNpS"
      },
      "execution_count": 2,
      "outputs": []
    },
    {
      "cell_type": "markdown",
      "source": [
        "# Separate feature data from target data"
      ],
      "metadata": {
        "id": "ZcnsG0bRt901"
      }
    },
    {
      "cell_type": "code",
      "source": [
        "X = dataset.iloc[:, :-1].values\n",
        "y = dataset.iloc[:, -1].values"
      ],
      "metadata": {
        "id": "glQvvIlSqdzY"
      },
      "execution_count": 3,
      "outputs": []
    },
    {
      "cell_type": "code",
      "source": [
        "print(X)"
      ],
      "metadata": {
        "colab": {
          "base_uri": "https://localhost:8080/"
        },
        "id": "Bw3AKXFuqial",
        "outputId": "5dc898a5-a45a-4deb-ed4a-e7abc30a5b7f"
      },
      "execution_count": 4,
      "outputs": [
        {
          "output_type": "stream",
          "name": "stdout",
          "text": [
            "[[nan  8.  9.]\n",
            " [nan  8.  6.]\n",
            " [ 5.  6.  7.]\n",
            " [ 2. 10. 10.]\n",
            " [ 7.  9.  6.]\n",
            " [ 3.  7. 10.]\n",
            " [10. nan  7.]\n",
            " [11.  7.  8.]]\n"
          ]
        }
      ]
    },
    {
      "cell_type": "code",
      "source": [
        "print(y)"
      ],
      "metadata": {
        "colab": {
          "base_uri": "https://localhost:8080/"
        },
        "id": "eRFC7X4LqiUE",
        "outputId": "b44fb1f3-3b44-4354-b3dd-1c815cdaa150"
      },
      "execution_count": 5,
      "outputs": [
        {
          "output_type": "stream",
          "name": "stdout",
          "text": [
            "[50000 45000 60000 65000 70000 62000 72000 80000]\n"
          ]
        }
      ]
    },
    {
      "cell_type": "code",
      "source": [
        "null_counts = dataset.isnull().sum()\n",
        "print(null_counts)\n"
      ],
      "metadata": {
        "colab": {
          "base_uri": "https://localhost:8080/"
        },
        "id": "hRWcHVBfaN20",
        "outputId": "58c9e242-3132-46d5-b6c8-f09a52009b92"
      },
      "execution_count": 6,
      "outputs": [
        {
          "output_type": "stream",
          "name": "stdout",
          "text": [
            "experience                    2\n",
            "test_score(out of 10)         1\n",
            "interview_score(out of 10)    0\n",
            "salary($)                     0\n",
            "dtype: int64\n"
          ]
        }
      ]
    },
    {
      "cell_type": "markdown",
      "source": [
        "# Replace the Null values of the column test score with value 0"
      ],
      "metadata": {
        "id": "QScbDeIcuJLa"
      }
    },
    {
      "cell_type": "code",
      "source": [
        "from sklearn.impute import SimpleImputer\n",
        "import numpy as np\n",
        "\n",
        "imputer = SimpleImputer(missing_values=np.nan, strategy='constant', fill_value=0)\n",
        "imputer.fit(X[:, 0:1])\n",
        "X[:, 0:1] = imputer.transform(X[:, 0:1])\n"
      ],
      "metadata": {
        "id": "9cJBNFEaaN-z"
      },
      "execution_count": 7,
      "outputs": []
    },
    {
      "cell_type": "code",
      "source": [
        "print(X[:, 0:1])"
      ],
      "metadata": {
        "colab": {
          "base_uri": "https://localhost:8080/"
        },
        "id": "Xx8p1KIPlHjJ",
        "outputId": "8e3cfa9c-e5b3-42db-a2cc-f47bfcfd1c6b"
      },
      "execution_count": 8,
      "outputs": [
        {
          "output_type": "stream",
          "name": "stdout",
          "text": [
            "[[ 0.]\n",
            " [ 0.]\n",
            " [ 5.]\n",
            " [ 2.]\n",
            " [ 7.]\n",
            " [ 3.]\n",
            " [10.]\n",
            " [11.]]\n"
          ]
        }
      ]
    },
    {
      "cell_type": "markdown",
      "source": [
        "# Replace the Null values of the column test score with mean value"
      ],
      "metadata": {
        "id": "vKKMj3nDuKLs"
      }
    },
    {
      "cell_type": "code",
      "source": [
        "from sklearn.impute import SimpleImputer\n",
        "imputer = SimpleImputer(missing_values=np.nan, strategy='mean' ,)\n",
        "imputer.fit(X[:, 1:2])\n",
        "X[:, 1:2] = imputer.transform(X[:, 1:2])"
      ],
      "metadata": {
        "id": "H-7Z1_wrbna9"
      },
      "execution_count": 9,
      "outputs": []
    },
    {
      "cell_type": "code",
      "source": [
        "print(X[:, 1:2])"
      ],
      "metadata": {
        "colab": {
          "base_uri": "https://localhost:8080/"
        },
        "id": "2Z60b5NGbnki",
        "outputId": "cb053a5c-1797-4a28-cb8b-98a7e9cee33c"
      },
      "execution_count": 10,
      "outputs": [
        {
          "output_type": "stream",
          "name": "stdout",
          "text": [
            "[[ 8.        ]\n",
            " [ 8.        ]\n",
            " [ 6.        ]\n",
            " [10.        ]\n",
            " [ 9.        ]\n",
            " [ 7.        ]\n",
            " [ 7.85714286]\n",
            " [ 7.        ]]\n"
          ]
        }
      ]
    },
    {
      "cell_type": "markdown",
      "source": [
        "# Display a scatter plot between experience and Salary"
      ],
      "metadata": {
        "id": "5Rd4yaT0uL58"
      }
    },
    {
      "cell_type": "code",
      "source": [
        "plt.scatter(dataset['experience'] , dataset['salary($)']);\n",
        "plt.title('Salary Prediction')\n",
        "plt.xlabel('Experience')\n",
        "plt.ylabel('Salary')\n",
        "plt.show()"
      ],
      "metadata": {
        "colab": {
          "base_uri": "https://localhost:8080/",
          "height": 472
        },
        "id": "mGHz_JjGl5z-",
        "outputId": "e9408c30-edcd-4178-f4ea-434e8a3fa5cc"
      },
      "execution_count": 11,
      "outputs": [
        {
          "output_type": "display_data",
          "data": {
            "text/plain": [
              "<Figure size 640x480 with 1 Axes>"
            ],
            "image/png": "[encoded data removed]"
          },
          "metadata": {}
        }
      ]
    },
    {
      "cell_type": "markdown",
      "source": [
        "# Display a scatter plot between test and Salary"
      ],
      "metadata": {
        "id": "i1SmnGOYuM0M"
      }
    },
    {
      "cell_type": "code",
      "source": [
        "plt.scatter(dataset['test_score(out of 10)'] , dataset['salary($)']);\n",
        "plt.title('Salary Prediction')\n",
        "plt.xlabel('Test Score')\n",
        "plt.ylabel('Salary')\n",
        "plt.show()"
      ],
      "metadata": {
        "colab": {
          "base_uri": "https://localhost:8080/",
          "height": 472
        },
        "id": "J1ifhlCrq4Cx",
        "outputId": "2faed5a2-9bfb-4816-e936-1386da51c2f5"
      },
      "execution_count": 12,
      "outputs": [
        {
          "output_type": "display_data",
          "data": {
            "text/plain": [
              "<Figure size 640x480 with 1 Axes>"
            ],
            "image/png": "[encoded data removed]"
          },
          "metadata": {}
        }
      ]
    },
    {
      "cell_type": "markdown",
      "source": [
        "# Display a scatter plot between Interview and Salary"
      ],
      "metadata": {
        "id": "kss9y_75uP2Z"
      }
    },
    {
      "cell_type": "code",
      "source": [
        "plt.scatter(dataset['interview_score(out of 10)'] , dataset['salary($)']);\n",
        "plt.title('Salary Prediction')\n",
        "plt.xlabel('Interview Score')\n",
        "plt.ylabel('Salary')\n",
        "plt.show()"
      ],
      "metadata": {
        "colab": {
          "base_uri": "https://localhost:8080/",
          "height": 472
        },
        "id": "4vuCymXSh7rl",
        "outputId": "a8fc13f7-6ac9-4ef1-9b5f-1541915c4bfd"
      },
      "execution_count": 13,
      "outputs": [
        {
          "output_type": "display_data",
          "data": {
            "text/plain": [
              "<Figure size 640x480 with 1 Axes>"
            ],
            "image/png": "[encoded data removed]"
          },
          "metadata": {}
        }
      ]
    },
    {
      "cell_type": "markdown",
      "source": [
        "# Display bar plot for experience"
      ],
      "metadata": {
        "id": "BzGYh3GvuRo3"
      }
    },
    {
      "cell_type": "code",
      "source": [
        "plt.bar(dataset['experience'] , height = 0.5);\n",
        "plt.title('Salary Prediction')\n",
        "plt.xlabel('experience')\n",
        "plt.show()"
      ],
      "metadata": {
        "colab": {
          "base_uri": "https://localhost:8080/",
          "height": 472
        },
        "id": "TAalwP6PaOC0",
        "outputId": "5e60e863-1494-44cf-b2cc-fd3a13814d42"
      },
      "execution_count": 14,
      "outputs": [
        {
          "output_type": "display_data",
          "data": {
            "text/plain": [
              "<Figure size 640x480 with 1 Axes>"
            ],
            "image/png": "[encoded data removed]"
          },
          "metadata": {}
        }
      ]
    },
    {
      "cell_type": "markdown",
      "source": [
        "# Splitting the dataset into the Training set and Test set"
      ],
      "metadata": {
        "id": "7n4lnr0GuSZ2"
      }
    },
    {
      "cell_type": "code",
      "source": [
        "from sklearn.model_selection import train_test_split\n",
        "X_train , X_test , y_train , y_test = train_test_split(X , y , test_size = 0.3 , random_state = 1)"
      ],
      "metadata": {
        "id": "pNDu0361p1Df"
      },
      "execution_count": 15,
      "outputs": []
    },
    {
      "cell_type": "markdown",
      "source": [
        "# Create a Linear regression model between Features and target data"
      ],
      "metadata": {
        "id": "5VdNNK4wuUYa"
      }
    },
    {
      "cell_type": "code",
      "source": [
        "from sklearn.linear_model import LinearRegression\n",
        "regressor = LinearRegression()\n",
        "regressor.fit(X_train , y_train)"
      ],
      "metadata": {
        "colab": {
          "base_uri": "https://localhost:8080/",
          "height": 75
        },
        "id": "2AJ-9BK4n16m",
        "outputId": "120ab9e0-84b6-4e28-ca70-58f61b6a4cb7"
      },
      "execution_count": 16,
      "outputs": [
        {
          "output_type": "execute_result",
          "data": {
            "text/plain": [
              "LinearRegression()"
            ],
            "text/html": [
              "<style>#sk-container-id-1 {color: black;background-color: white;}#sk-container-id-1 pre{padding: 0;}#sk-container-id-1 div.sk-toggleable {background-color: white;}#sk-container-id-1 label.sk-toggleable__label {cursor: pointer;display: block;width: 100%;margin-bottom: 0;padding: 0.3em;box-sizing: border-box;text-align: center;}#sk-container-id-1 label.sk-toggleable__label-arrow:before {content: \"▸\";float: left;margin-right: 0.25em;color: #696969;}#sk-container-id-1 label.sk-toggleable__label-arrow:hover:before {color: black;}#sk-container-id-1 div.sk-estimator:hover label.sk-toggleable__label-arrow:before {color: black;}#sk-container-id-1 div.sk-toggleable__content {max-height: 0;max-width: 0;overflow: hidden;text-align: left;background-color: #f0f8ff;}#sk-container-id-1 div.sk-toggleable__content pre {margin: 0.2em;color: black;border-radius: 0.25em;background-color: #f0f8ff;}#sk-container-id-1 input.sk-toggleable__control:checked~div.sk-toggleable__content {max-height: 200px;max-width: 100%;overflow: auto;}#sk-container-id-1 input.sk-toggleable__control:checked~label.sk-toggleable__label-arrow:before {content: \"▾\";}#sk-container-id-1 div.sk-estimator input.sk-toggleable__control:checked~label.sk-toggleable__label {background-color: #d4ebff;}#sk-container-id-1 div.sk-label input.sk-toggleable__control:checked~label.sk-toggleable__label {background-color: #d4ebff;}#sk-container-id-1 input.sk-hidden--visually {border: 0;clip: rect(1px 1px 1px 1px);clip: rect(1px, 1px, 1px, 1px);height: 1px;margin: -1px;overflow: hidden;padding: 0;position: absolute;width: 1px;}#sk-container-id-1 div.sk-estimator {font-family: monospace;background-color: #f0f8ff;border: 1px dotted black;border-radius: 0.25em;box-sizing: border-box;margin-bottom: 0.5em;}#sk-container-id-1 div.sk-estimator:hover {background-color: #d4ebff;}#sk-container-id-1 div.sk-parallel-item::after {content: \"\";width: 100%;border-bottom: 1px solid gray;flex-grow: 1;}#sk-container-id-1 div.sk-label:hover label.sk-toggleable__label {background-color: #d4ebff;}#sk-container-id-1 div.sk-serial::before {content: \"\";position: absolute;border-left: 1px solid gray;box-sizing: border-box;top: 0;bottom: 0;left: 50%;z-index: 0;}#sk-container-id-1 div.sk-serial {display: flex;flex-direction: column;align-items: center;background-color: white;padding-right: 0.2em;padding-left: 0.2em;position: relative;}#sk-container-id-1 div.sk-item {position: relative;z-index: 1;}#sk-container-id-1 div.sk-parallel {display: flex;align-items: stretch;justify-content: center;background-color: white;position: relative;}#sk-container-id-1 div.sk-item::before, #sk-container-id-1 div.sk-parallel-item::before {content: \"\";position: absolute;border-left: 1px solid gray;box-sizing: border-box;top: 0;bottom: 0;left: 50%;z-index: -1;}#sk-container-id-1 div.sk-parallel-item {display: flex;flex-direction: column;z-index: 1;position: relative;background-color: white;}#sk-container-id-1 div.sk-parallel-item:first-child::after {align-self: flex-end;width: 50%;}#sk-container-id-1 div.sk-parallel-item:last-child::after {align-self: flex-start;width: 50%;}#sk-container-id-1 div.sk-parallel-item:only-child::after {width: 0;}#sk-container-id-1 div.sk-dashed-wrapped {border: 1px dashed gray;margin: 0 0.4em 0.5em 0.4em;box-sizing: border-box;padding-bottom: 0.4em;background-color: white;}#sk-container-id-1 div.sk-label label {font-family: monospace;font-weight: bold;display: inline-block;line-height: 1.2em;}#sk-container-id-1 div.sk-label-container {text-align: center;}#sk-container-id-1 div.sk-container {/* jupyter's `normalize.less` sets `[hidden] { display: none; }` but bootstrap.min.css set `[hidden] { display: none !important; }` so we also need the `!important` here to be able to override the default hidden behavior on the sphinx rendered scikit-learn.org. See: https://github.com/scikit-learn/scikit-learn/issues/21755 */display: inline-block !important;position: relative;}#sk-container-id-1 div.sk-text-repr-fallback {display: none;}</style><div id=\"sk-container-id-1\" class=\"sk-top-container\"><div class=\"sk-text-repr-fallback\"><pre>LinearRegression()</pre><b>In a Jupyter environment, please rerun this cell to show the HTML representation or trust the notebook. <br />On GitHub, the HTML representation is unable to render, please try loading this page with nbviewer.org.</b></div><div class=\"sk-container\" hidden><div class=\"sk-item\"><div class=\"sk-estimator sk-toggleable\"><input class=\"sk-toggleable__control sk-hidden--visually\" id=\"sk-estimator-id-1\" type=\"checkbox\" checked><label for=\"sk-estimator-id-1\" class=\"sk-toggleable__label sk-toggleable__label-arrow\">LinearRegression</label><div class=\"sk-toggleable__content\"><pre>LinearRegression()</pre></div></div></div></div></div>"
            ]
          },
          "metadata": {},
          "execution_count": 16
        }
      ]
    },
    {
      "cell_type": "code",
      "source": [
        "y_pred = regressor.predict(X_test)"
      ],
      "metadata": {
        "id": "Bck-2a38vvd1"
      },
      "execution_count": 17,
      "outputs": []
    },
    {
      "cell_type": "markdown",
      "source": [
        "# Extract slope and intercept value from the model"
      ],
      "metadata": {
        "id": "GAiW-x-JuTk4"
      }
    },
    {
      "cell_type": "code",
      "source": [
        "regressor.coef_"
      ],
      "metadata": {
        "colab": {
          "base_uri": "https://localhost:8080/"
        },
        "id": "A24C-04mn2Eo",
        "outputId": "75ed668e-8791-45fe-fc8b-dcd7194e6f85"
      },
      "execution_count": 18,
      "outputs": [
        {
          "output_type": "execute_result",
          "data": {
            "text/plain": [
              "array([2639.68310613, 2747.24145314, 1987.3575524 ])"
            ]
          },
          "metadata": {},
          "execution_count": 18
        }
      ]
    },
    {
      "cell_type": "code",
      "source": [
        "regressor.intercept_"
      ],
      "metadata": {
        "colab": {
          "base_uri": "https://localhost:8080/"
        },
        "id": "mp47y3-jn2KV",
        "outputId": "56deaf6e-a398-4334-9acf-6b2340a2fe8e"
      },
      "execution_count": 19,
      "outputs": [
        {
          "output_type": "execute_result",
          "data": {
            "text/plain": [
              "12493.255299407581"
            ]
          },
          "metadata": {},
          "execution_count": 19
        }
      ]
    },
    {
      "cell_type": "markdown",
      "source": [
        "# Display Mean Squared Error\n",
        "# Display Mean Absolute Error\n",
        "# Display Root mean Squared error\n",
        "# Display R2 score"
      ],
      "metadata": {
        "id": "zAjvsmGBuY0I"
      }
    },
    {
      "cell_type": "code",
      "source": [
        "from sklearn.metrics import mean_squared_error,r2_score , mean_absolute_error\n",
        "mse = mean_squared_error(y_test, y_pred)\n",
        "r2 = r2_score(y_test , y_pred)\n",
        "mae = mean_absolute_error(y_test, y_pred)\n",
        "print(mae)"
      ],
      "metadata": {
        "colab": {
          "base_uri": "https://localhost:8080/"
        },
        "id": "y7eBUvuwn2P8",
        "outputId": "0241294a-736e-44de-d687-9468bb4933e9"
      },
      "execution_count": 20,
      "outputs": [
        {
          "output_type": "stream",
          "name": "stdout",
          "text": [
            "2883.129921728168\n"
          ]
        }
      ]
    },
    {
      "cell_type": "code",
      "source": [
        "mse1 = np.sqrt(mse)\n",
        "print(mse1)"
      ],
      "metadata": {
        "colab": {
          "base_uri": "https://localhost:8080/"
        },
        "id": "mD1pzfpUsTOF",
        "outputId": "32ff5009-4148-4308-e943-0bd1b73d96b8"
      },
      "execution_count": 21,
      "outputs": [
        {
          "output_type": "stream",
          "name": "stdout",
          "text": [
            "3077.965705286236\n"
          ]
        }
      ]
    },
    {
      "cell_type": "code",
      "source": [
        "print('Slope:' ,regressor.coef_)\n",
        "print('Intercept:', regressor.intercept_)\n",
        "print('Root mean squared error: ', mse1)\n",
        "print('R2 score: ', r2)"
      ],
      "metadata": {
        "colab": {
          "base_uri": "https://localhost:8080/"
        },
        "id": "AVFru8gmsdOA",
        "outputId": "fc92f31b-f4de-46c4-ac99-a256375beb46"
      },
      "execution_count": 22,
      "outputs": [
        {
          "output_type": "stream",
          "name": "stdout",
          "text": [
            "Slope: [2639.68310613 2747.24145314 1987.3575524 ]\n",
            "Intercept: 12493.255299407581\n",
            "Root mean squared error:  3077.965705286236\n",
            "R2 score:  0.9539108886776952\n"
          ]
        }
      ]
    }
  ]
}